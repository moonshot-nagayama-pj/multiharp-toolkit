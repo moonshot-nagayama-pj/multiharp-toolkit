{
 "cells": [
  {
   "cell_type": "code",
   "execution_count": 1,
   "metadata": {},
   "outputs": [],
   "source": [
    "%load_ext autoreload\n",
    "%autoreload 2"
   ]
  },
  {
   "cell_type": "code",
   "execution_count": 2,
   "metadata": {},
   "outputs": [],
   "source": [
    "from mh_file_parser import parse\n",
    "import polars as pl\n",
    "import plotly.express as px"
   ]
  },
  {
   "cell_type": "code",
   "execution_count": 3,
   "metadata": {},
   "outputs": [
    {
     "name": "stdout",
     "output_type": "stream",
     "text": [
      "Writing 3344031 records, this may take a while...\n",
      "{'globRes': 5e-12, 'numRecords': 3344031}\n",
      "Progress: 98.7%"
     ]
    }
   ],
   "source": [
    "\n",
    "inputfile = open(\"./sampledata/example-10mins-ch1-t2.ptu\", \"rb\")\n",
    "result = parse(inputfile)"
   ]
  },
  {
   "cell_type": "code",
   "execution_count": 4,
   "metadata": {},
   "outputs": [
    {
     "data": {
      "text/plain": [
       "['0: 2675363']"
      ]
     },
     "execution_count": 4,
     "metadata": {},
     "output_type": "execute_result"
    }
   ],
   "source": [
    "# show channel: event count\n",
    "[f\"{i}: {len(ch)}\" for i,ch in enumerate(result.events) if len(ch) > 0]"
   ]
  },
  {
   "cell_type": "code",
   "execution_count": 5,
   "metadata": {},
   "outputs": [
    {
     "name": "stdout",
     "output_type": "stream",
     "text": [
      "shape: (2_675_363, 6)\n",
      "┌─────────────────┬──────┬─────┬─────┬─────┬─────┐\n",
      "│ timestamp       ┆ sync ┆ ch1 ┆ ch2 ┆ ch3 ┆ ch4 │\n",
      "│ ---             ┆ ---  ┆ --- ┆ --- ┆ --- ┆ --- │\n",
      "│ i64             ┆ i64  ┆ i64 ┆ i64 ┆ i64 ┆ i64 │\n",
      "╞═════════════════╪══════╪═════╪═════╪═════╪═════╡\n",
      "│ 493506484       ┆ 1    ┆ 1   ┆ 1   ┆ 1   ┆ 0   │\n",
      "│ 493550903       ┆ 1    ┆ 1   ┆ 0   ┆ 1   ┆ 1   │\n",
      "│ 493554764       ┆ 1    ┆ 1   ┆ 0   ┆ 1   ┆ 0   │\n",
      "│ 493593436       ┆ 1    ┆ 1   ┆ 0   ┆ 1   ┆ 1   │\n",
      "│ …               ┆ …    ┆ …   ┆ …   ┆ …   ┆ …   │\n",
      "│ 119999607661897 ┆ 1    ┆ 1   ┆ 1   ┆ 1   ┆ 1   │\n",
      "│ 119999608902507 ┆ 1    ┆ 1   ┆ 0   ┆ 0   ┆ 1   │\n",
      "│ 119999608948135 ┆ 1    ┆ 1   ┆ 1   ┆ 1   ┆ 0   │\n",
      "│ 119999610840642 ┆ 1    ┆ 1   ┆ 0   ┆ 0   ┆ 1   │\n",
      "└─────────────────┴──────┴─────┴─────┴─────┴─────┘\n"
     ]
    }
   ],
   "source": [
    "# generate random data\n",
    "import random\n",
    "\n",
    "data = result.events[0]\n",
    "df = pl.DataFrame(\n",
    "    {\n",
    "        \"timestamp\": data,\n",
    "        \"sync\": [1] * len(data),\n",
    "        \"ch1\": [1] * len(data),\n",
    "        \"ch2\": [int(random.random() * 2) for _ in range(0, len(data))],\n",
    "        \"ch3\": [int(random.random() * 2) for _ in range(0, len(data))],\n",
    "        \"ch4\": [int(random.random() * 2) for _ in range(0, len(data))],\n",
    "    }\n",
    ")\n",
    "print(df)"
   ]
  },
  {
   "cell_type": "code",
   "execution_count": 6,
   "metadata": {},
   "outputs": [
    {
     "name": "stdout",
     "output_type": "stream",
     "text": [
      "shape: (1_429_990, 16)\n",
      "┌─────────────────┬──────┬─────┬─────┬───┬─────┬───────┬─────────┬─────┐\n",
      "│ timestamp       ┆ sync ┆ ch1 ┆ ch2 ┆ … ┆ 3&4 ┆ 1&2&4 ┆ 1&2&3&4 ┆ sum │\n",
      "│ ---             ┆ ---  ┆ --- ┆ --- ┆   ┆ --- ┆ ---   ┆ ---     ┆ --- │\n",
      "│ i64             ┆ i64  ┆ i64 ┆ i64 ┆   ┆ i64 ┆ i64   ┆ i64     ┆ i64 │\n",
      "╞═════════════════╪══════╪═════╪═════╪═══╪═════╪═══════╪═════════╪═════╡\n",
      "│ 493500000       ┆ 4    ┆ 4   ┆ 1   ┆ … ┆ 6   ┆ 7     ┆ 11      ┆ 15  │\n",
      "│ 744000000       ┆ 5    ┆ 5   ┆ 2   ┆ … ┆ 5   ┆ 11    ┆ 12      ┆ 17  │\n",
      "│ 1093400000      ┆ 2    ┆ 2   ┆ 2   ┆ … ┆ 2   ┆ 4     ┆ 6       ┆ 8   │\n",
      "│ 1193300000      ┆ 1    ┆ 1   ┆ 1   ┆ … ┆ 1   ┆ 2     ┆ 3       ┆ 4   │\n",
      "│ …               ┆ …    ┆ …   ┆ …   ┆ … ┆ …   ┆ …     ┆ …       ┆ …   │\n",
      "│ 119999607500000 ┆ 2    ┆ 2   ┆ 0   ┆ … ┆ 1   ┆ 2     ┆ 3       ┆ 5   │\n",
      "│ 119999607600000 ┆ 3    ┆ 3   ┆ 2   ┆ … ┆ 3   ┆ 6     ┆ 8       ┆ 11  │\n",
      "│ 119999608900000 ┆ 2    ┆ 2   ┆ 1   ┆ … ┆ 2   ┆ 4     ┆ 5       ┆ 7   │\n",
      "│ 119999610800000 ┆ 1    ┆ 1   ┆ 0   ┆ … ┆ 1   ┆ 2     ┆ 2       ┆ 3   │\n",
      "└─────────────────┴──────┴─────┴─────┴───┴─────┴───────┴─────────┴─────┘\n"
     ]
    }
   ],
   "source": [
    "# resample data by given interval, and aggregate data by channels\n",
    "interval = 100000\n",
    "resampled_df = (\n",
    "    df.with_columns(pl.col(\"timestamp\") / interval)\n",
    "    .with_columns(pl.col(\"timestamp\").cast(pl.Int64))\n",
    "    .group_by(\"timestamp\")\n",
    "    .agg(\n",
    "        pl.col(\"sync\").sum().alias(\"sync\"),\n",
    "        pl.col(\"ch1\").sum().alias(\"ch1\"),\n",
    "        pl.col(\"ch2\").sum().alias(\"ch2\"),\n",
    "        pl.col(\"ch3\").sum().alias(\"ch3\"),\n",
    "        pl.col(\"ch4\").sum().alias(\"ch4\"),\n",
    "        (pl.col(\"sync\") + pl.col(\"ch1\")).sum().alias(\"sync&1\"),\n",
    "        (pl.col(\"sync\") + pl.col(\"ch2\")).sum().alias(\"sync&2\"),\n",
    "        (pl.col(\"sync\") + pl.col(\"ch1\") + pl.col(\"ch2\")).sum().alias(\"sync&1&2\"),\n",
    "        (pl.col(\"ch1\") + pl.col(\"ch2\")).sum().alias(\"1&2\"),\n",
    "        (pl.col(\"ch1\") + pl.col(\"ch3\")).sum().alias(\"1&3\"),\n",
    "        (pl.col(\"ch2\") + pl.col(\"ch4\")).sum().alias(\"2&4\"),\n",
    "        (pl.col(\"ch3\") + pl.col(\"ch4\")).sum().alias(\"3&4\"),\n",
    "        (pl.col(\"ch1\") + pl.col(\"ch2\") + pl.col(\"ch4\")).sum().alias(\"1&2&4\"),\n",
    "        (pl.col(\"ch1\") + pl.col(\"ch2\") + pl.col(\"ch3\") + pl.col(\"ch4\"))\n",
    "        .sum()\n",
    "        .alias(\"1&2&3&4\"),\n",
    "        (pl.col(\"sync\") + pl.col(\"ch1\") + pl.col(\"ch2\") + pl.col(\"ch3\") + pl.col(\"ch4\"))\n",
    "        .sum()\n",
    "        .alias(\"sum\"),\n",
    "    )\n",
    "    .sort(\"timestamp\")\n",
    "    .with_columns(pl.col(\"timestamp\") * interval)\n",
    ")\n",
    "print(resampled_df)"
   ]
  },
  {
   "cell_type": "code",
   "execution_count": null,
   "metadata": {},
   "outputs": [],
   "source": [
    "# show raw data histogram\n",
    "fig = px.histogram(df, x=\"timestamp\", nbins=int(interval))\n",
    "fig.update_layout(bargap=0.2)\n"
   ]
  },
  {
   "cell_type": "code",
   "execution_count": 8,
   "metadata": {},
   "outputs": [],
   "source": [
    "# fig = px.bar(resampled_df, x=\"timestamp\", y=\"ch1\")\n",
    "# fig.show()"
   ]
  }
 ],
 "metadata": {
  "kernelspec": {
   "display_name": ".venv",
   "language": "python",
   "name": "python3"
  },
  "language_info": {
   "codemirror_mode": {
    "name": "ipython",
    "version": 3
   },
   "file_extension": ".py",
   "mimetype": "text/x-python",
   "name": "python",
   "nbconvert_exporter": "python",
   "pygments_lexer": "ipython3",
   "version": "3.11.3"
  }
 },
 "nbformat": 4,
 "nbformat_minor": 2
}
