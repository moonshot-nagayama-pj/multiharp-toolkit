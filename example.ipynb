{
 "cells": [
  {
   "cell_type": "code",
   "execution_count": null,
   "metadata": {},
   "outputs": [],
   "source": [
    "%load_ext autoreload\n",
    "%autoreload 2"
   ]
  },
  {
   "cell_type": "code",
   "execution_count": null,
   "metadata": {},
   "outputs": [],
   "source": [
    "from mh_file_parser import parse\n",
    "import polars as pl\n",
    "import plotly.express as px"
   ]
  },
  {
   "cell_type": "code",
   "execution_count": null,
   "metadata": {},
   "outputs": [],
   "source": [
    "inputfile = open(\"./sampledata/default_laser.ptu\", \"rb\")\n",
    "result = parse(inputfile)\n",
    "# show channel: event count\n",
    "print(\n",
    "    \"\\nevent counts : \",\n",
    "    [f\"ch{i}: {len(ch)}\" for i, ch in enumerate(result.events) if len(ch) > 0],\n",
    ")"
   ]
  },
  {
   "cell_type": "code",
   "execution_count": null,
   "metadata": {},
   "outputs": [],
   "source": [
    "data = result.events[0] + result.events[1] + result.events[2]\n",
    "data.sort()\n",
    "df = (\n",
    "    pl.concat(\n",
    "        [\n",
    "            pl.DataFrame({\"timestamp\": result.events[0], \"ch\": 0}),\n",
    "            pl.DataFrame(\n",
    "                {\"timestamp\": result.events[1], \"ch\": 2}\n",
    "            ),  # switch ch 1 and 2 for arrival time order\n",
    "            pl.DataFrame({\"timestamp\": result.events[2], \"ch\": 1}),\n",
    "        ]\n",
    "    )\n",
    "    .sort(\"timestamp\")\n",
    "    .with_columns(\n",
    "        [\n",
    "            pl.col(\"ch\").shift(-1).alias(\"next_ch\"),\n",
    "            pl.col(\"timestamp\").shift(-1).alias(\"next_timestamp\"),\n",
    "            pl.col(\"ch\").shift(-2).alias(\"next_next_ch\"),\n",
    "            pl.col(\"timestamp\").shift(-2).alias(\"next_next_timestamp\"),\n",
    "        ]\n",
    "    )\n",
    "    .drop_nulls()\n",
    ")\n",
    "df"
   ]
  },
  {
   "cell_type": "code",
   "execution_count": null,
   "metadata": {},
   "outputs": [],
   "source": [
    "def calculate_time_diff(df, channel_from, channel_to):\n",
    "    # 時間差分を計算\n",
    "    time_diffs = (\n",
    "        df.filter((pl.col(\"ch\") == channel_from) & (pl.col(\"next_ch\") == channel_to))\n",
    "        .with_columns(\n",
    "            [(pl.col(\"next_timestamp\") - pl.col(\"timestamp\")).alias(\"time_diff\")]\n",
    "        )\n",
    "        .filter((pl.col(\"time_diff\") > 0) & (pl.col(\"time_diff\") < 2000))\n",
    "        .select([\"ch\", \"next_ch\", \"time_diff\"])\n",
    "    )\n",
    "\n",
    "    return time_diffs\n",
    "\n",
    "\n",
    "diff01_df = calculate_time_diff(df, 0, 1)\n",
    "diff02_df = calculate_time_diff(df, 0, 2)\n",
    "diff0102_df = pl.concat(\n",
    "    [\n",
    "        diff01_df.with_columns([pl.col(\"time_diff\").alias(\"time_diff1\")]).select(\n",
    "            \"time_diff1\"\n",
    "        ),\n",
    "        diff02_df.with_columns([pl.col(\"time_diff\").alias(\"time_diff2\")]).select(\n",
    "            \"time_diff2\"\n",
    "        ),\n",
    "    ],\n",
    "    how=\"horizontal\",\n",
    ")"
   ]
  },
  {
   "cell_type": "code",
   "execution_count": null,
   "metadata": {},
   "outputs": [],
   "source": [
    "fig = px.histogram(\n",
    "    diff0102_df.to_pandas(), x=[\"time_diff1\", \"time_diff2\"], nbins=int(10000)\n",
    ")\n",
    "fig.update_layout(bargap=0.2)"
   ]
  },
  {
   "cell_type": "code",
   "execution_count": null,
   "metadata": {},
   "outputs": [],
   "source": [
    "def extract_peak(df):\n",
    "    # ビンの範囲と数を定義\n",
    "    bin_count = 1000\n",
    "    min_timediff = df[\"time_diff\"].min()\n",
    "    max_timediff = df[\"time_diff\"].max()\n",
    "    bin_width = (max_timediff - min_timediff) / bin_count\n",
    "\n",
    "    # ビンで集計\n",
    "    hist_df = (\n",
    "        df.with_columns(\n",
    "            [((pl.col(\"time_diff\") - min_timediff) / bin_width).floor().alias(\"bin\")]\n",
    "        )\n",
    "        .groupby(\"bin\")\n",
    "        .agg(pl.count().alias(\"count\"))\n",
    "        .sort(\"count\", descending=True)\n",
    "    )\n",
    "\n",
    "    # ピークビンを取得\n",
    "    peak_bin = hist_df[0]\n",
    "\n",
    "    # ピーク期間を計算\n",
    "    peak_start = peak_bin[\"bin\"] * bin_width + min_timediff\n",
    "    peak_end = peak_start + bin_width\n",
    "\n",
    "    # ピーク期間を表示\n",
    "    peak_width = 25\n",
    "    print(\"ピーク期間:\", peak_start[0] - peak_width, \"ps から\", peak_end[0] + peak_width, \"ps\")\n",
    "    return (peak_start[0] - peak_width, peak_start[0] + peak_width)\n",
    "\n",
    "\n",
    "peak_start_1, peak_end_1 = extract_peak(diff01_df)\n",
    "peak_start_2, peak_end_2 = extract_peak(diff02_df)"
   ]
  },
  {
   "cell_type": "code",
   "execution_count": null,
   "metadata": {},
   "outputs": [],
   "source": [
    "sync_start = 0\n",
    "ch1_found = False\n",
    "n_sync_1 = 0\n",
    "n_sync = 0\n",
    "n_sync_2 = 0\n",
    "n_sync_1_2 = 0\n",
    "\n",
    "num_records = len(df[\"ch\"])\n",
    "import sys\n",
    "\n",
    "df_ch = df[\"ch\"].to_list()\n",
    "df_timestamp = df[\"timestamp\"].to_list()\n",
    "for i, ch in enumerate(df_ch):\n",
    "    timestamp = df_timestamp[i]\n",
    "    if ch == 0:\n",
    "        sync_start = timestamp\n",
    "        n_sync += 1\n",
    "        ch1_found = False\n",
    "        continue\n",
    "    diff = timestamp - sync_start\n",
    "    if ch == 1:\n",
    "        if peak_start_1 < diff < peak_end_1:\n",
    "            n_sync_1 += 1\n",
    "            ch1_found = True\n",
    "    if ch == 2:\n",
    "        if peak_start_2 < diff < peak_end_2:\n",
    "            n_sync_2 += 1\n",
    "            if ch1_found:\n",
    "                n_sync_1_2 += 1\n",
    "    if i % 50000 == 0:\n",
    "        sys.stdout.write(\"\\rProgress: %.1f%%\" % (float(i) * 100 / float(num_records)))\n",
    "        sys.stdout.flush()\n",
    "\n",
    "\n",
    "print(dict(n_sync=n_sync, n_sync_1=n_sync_1, n_sync_2=n_sync_2, n_sync_1_2=n_sync_1_2))"
   ]
  },
  {
   "cell_type": "code",
   "execution_count": null,
   "metadata": {},
   "outputs": [],
   "source": [
    "print(f\"n_sync_1 / n_sync: {n_sync_1 / n_sync}\")\n",
    "print(f\"n_sync_2 / n_sync: {n_sync_2 / n_sync}\")\n",
    "print(\"g2: \", (n_sync * n_sync_1_2) / (n_sync_1 * n_sync_2))"
   ]
  },
  {
   "cell_type": "code",
   "execution_count": null,
   "metadata": {},
   "outputs": [],
   "source": []
  }
 ],
 "metadata": {
  "kernelspec": {
   "display_name": ".venv",
   "language": "python",
   "name": "python3"
  },
  "language_info": {
   "codemirror_mode": {
    "name": "ipython",
    "version": 3
   },
   "file_extension": ".py",
   "mimetype": "text/x-python",
   "name": "python",
   "nbconvert_exporter": "python",
   "pygments_lexer": "ipython3",
   "version": "3.11.3"
  }
 },
 "nbformat": 4,
 "nbformat_minor": 2
}
